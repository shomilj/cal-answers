{
 "cells": [
  {
   "cell_type": "markdown",
   "metadata": {},
   "source": [
    "# UC Berkeley EECS/CS Demographic Overview"
   ]
  },
  {
   "cell_type": "markdown",
   "metadata": {},
   "source": [
    "This notebook contains a comprehensive analysis of EECS & L&S CS census data. All data is sourced from Cal Answers census data."
   ]
  },
  {
   "cell_type": "code",
   "execution_count": 189,
   "metadata": {},
   "outputs": [],
   "source": [
    "from utils import census\n",
    "from tabulate import tabulate\n",
    "import pandas as pd"
   ]
  },
  {
   "cell_type": "code",
   "execution_count": 190,
   "metadata": {},
   "outputs": [
    {
     "name": "stdout",
     "output_type": "stream",
     "text": [
      "Columns: \n",
      " • Academic Yr\n",
      " • Gender Desc (renamed to: Gender)\n",
      " • Major Short Nm (renamed to: Major)\n",
      " • Prorated Student Major Cnt Sum\n",
      " • Semester Year Letter Cd Concat\n",
      " • Semester Year Name Concat (renamed to: Semester/Year)\n",
      " • Short Ethnic Desc (renamed to: Ethnicity L3)\n",
      " • Student Headcount (renamed to: Headcount)\n",
      " • Student Headcount-DEC\n",
      " • Ucb Level2 Ethnic Rollup Desc (renamed to: Ethnicity L2)\n",
      " • Ungrad Grad Cd\n",
      " • Ungrad Grad Cd.1\n"
     ]
    }
   ],
   "source": [
    "data = census.load_census_df()"
   ]
  },
  {
   "cell_type": "code",
   "execution_count": 191,
   "metadata": {},
   "outputs": [
    {
     "data": {
      "text/html": [
       "<div>\n",
       "<style scoped>\n",
       "    .dataframe tbody tr th:only-of-type {\n",
       "        vertical-align: middle;\n",
       "    }\n",
       "\n",
       "    .dataframe tbody tr th {\n",
       "        vertical-align: top;\n",
       "    }\n",
       "\n",
       "    .dataframe thead th {\n",
       "        text-align: right;\n",
       "    }\n",
       "</style>\n",
       "<table border=\"1\" class=\"dataframe\">\n",
       "  <thead>\n",
       "    <tr style=\"text-align: right;\">\n",
       "      <th></th>\n",
       "      <th>Ethnicity L2</th>\n",
       "      <th>Ethnicity L3</th>\n",
       "      <th>Semester/Year</th>\n",
       "      <th>Gender</th>\n",
       "      <th>Headcount</th>\n",
       "      <th>Academic Yr</th>\n",
       "      <th>Major</th>\n",
       "    </tr>\n",
       "  </thead>\n",
       "  <tbody>\n",
       "    <tr>\n",
       "      <th>0</th>\n",
       "      <td>African American</td>\n",
       "      <td>African American/Black</td>\n",
       "      <td>1983 Fall</td>\n",
       "      <td>Female</td>\n",
       "      <td>2</td>\n",
       "      <td>1983-84</td>\n",
       "      <td>Afr Amer Stds-Social Sci</td>\n",
       "    </tr>\n",
       "    <tr>\n",
       "      <th>1</th>\n",
       "      <td>African American</td>\n",
       "      <td>African American/Black</td>\n",
       "      <td>1983 Fall</td>\n",
       "      <td>Male</td>\n",
       "      <td>1</td>\n",
       "      <td>1983-84</td>\n",
       "      <td>Afr Amer Stds-Social Sci</td>\n",
       "    </tr>\n",
       "  </tbody>\n",
       "</table>\n",
       "</div>"
      ],
      "text/plain": [
       "       Ethnicity L2            Ethnicity L3 Semester/Year  Gender  Headcount  \\\n",
       "0  African American  African American/Black     1983 Fall  Female          2   \n",
       "1  African American  African American/Black     1983 Fall    Male          1   \n",
       "\n",
       "  Academic Yr                     Major  \n",
       "0     1983-84  Afr Amer Stds-Social Sci  \n",
       "1     1983-84  Afr Amer Stds-Social Sci  "
      ]
     },
     "execution_count": 191,
     "metadata": {},
     "output_type": "execute_result"
    }
   ],
   "source": [
    "data.head(2)"
   ]
  },
  {
   "cell_type": "code",
   "execution_count": 192,
   "metadata": {},
   "outputs": [],
   "source": [
    "filtered = data[data['Semester/Year'] == '2020 Fall']"
   ]
  },
  {
   "cell_type": "code",
   "execution_count": 193,
   "metadata": {},
   "outputs": [],
   "source": [
    "eecs = filtered[filtered['Major'].isin(['Electrical Eng & Comp Sci'])]\n",
    "cs = filtered[filtered['Major'].isin(['L&S Computer Science'])]\n",
    "undeclared = filtered[filtered['Major'].isin(['Letters & Sci Undeclared'])]"
   ]
  },
  {
   "cell_type": "code",
   "execution_count": 194,
   "metadata": {},
   "outputs": [],
   "source": [
    "def display(table):\n",
    "    table = table.copy()\n",
    "    for col in ['Gender', 'Ethnicity L2', 'Ethnicity L3']:\n",
    "        if col in table.columns:\n",
    "            table = table[table[col] != 'Decline to State']\n",
    "    table['Ratio'] = table['Headcount'].map(lambda h : \"{0:.2f}%\".format(100 * (h / sum(table['Headcount']))))\n",
    "    print(tabulate(table, showindex='never'))"
   ]
  },
  {
   "cell_type": "markdown",
   "metadata": {},
   "source": [
    "# Ethnicity (Level 3)"
   ]
  },
  {
   "cell_type": "code",
   "execution_count": 195,
   "metadata": {},
   "outputs": [
    {
     "name": "stdout",
     "output_type": "stream",
     "text": [
      "Fall 2020 Census: EECS by Ethnicity (Level 3)\n",
      "-----------------------------  ---  ------\n",
      "Chinese                        411  26.46%\n",
      "South Asian                    330  21.25%\n",
      "International                  236  15.20%\n",
      "White                          210  13.52%\n",
      "Mexican American/Chicano       107  6.89%\n",
      "Korean                          68  4.38%\n",
      "Vietnamese                      51  3.28%\n",
      "Other Hispanic/Latino           42  2.70%\n",
      "African American/Black          31  2.00%\n",
      "Filipino                        28  1.80%\n",
      "Other Asian                     19  1.22%\n",
      "Japanese                        15  0.97%\n",
      "Pacific Islander                 3  0.19%\n",
      "Native American/Alaska Native    2  0.13%\n",
      "-----------------------------  ---  ------\n"
     ]
    }
   ],
   "source": [
    "print('Fall 2020 Census: EECS by Ethnicity (Level 3)')\n",
    "display(eecs.groupby('Ethnicity L3').sum().sort_values('Headcount', ascending=False).reset_index())"
   ]
  },
  {
   "cell_type": "code",
   "execution_count": 196,
   "metadata": {},
   "outputs": [
    {
     "name": "stdout",
     "output_type": "stream",
     "text": [
      "Fall 2020 Census: L&S CS by Ethnicity (Level 3)\n",
      "-----------------------------  ---  ------\n",
      "Chinese                        533  32.56%\n",
      "International                  362  22.11%\n",
      "South Asian                    310  18.94%\n",
      "White                          195  11.91%\n",
      "Korean                          66  4.03%\n",
      "Vietnamese                      60  3.67%\n",
      "Filipino                        26  1.59%\n",
      "Mexican American/Chicano        24  1.47%\n",
      "Other Asian                     22  1.34%\n",
      "Other Hispanic/Latino           15  0.92%\n",
      "Japanese                        12  0.73%\n",
      "African American/Black           9  0.55%\n",
      "Native American/Alaska Native    3  0.18%\n",
      "-----------------------------  ---  ------\n"
     ]
    }
   ],
   "source": [
    "print('Fall 2020 Census: L&S CS by Ethnicity (Level 3)')\n",
    "display(cs.groupby('Ethnicity L3').sum().sort_values('Headcount', ascending=False).reset_index())"
   ]
  },
  {
   "cell_type": "markdown",
   "metadata": {},
   "source": [
    "# Ethnicity (Level 2)"
   ]
  },
  {
   "cell_type": "code",
   "execution_count": 197,
   "metadata": {},
   "outputs": [
    {
     "name": "stdout",
     "output_type": "stream",
     "text": [
      "Fall 2020 Census: EECS by Ethnicity (Level 2)\n",
      "-----------------------------  ---  ------\n",
      "Asian                          922  59.37%\n",
      "International                  236  15.20%\n",
      "White                          210  13.52%\n",
      "Chicano/Latino                 149  9.59%\n",
      "African American                31  2.00%\n",
      "Pacific Islander                 3  0.19%\n",
      "Native American/Alaska Native    2  0.13%\n",
      "-----------------------------  ---  ------\n"
     ]
    }
   ],
   "source": [
    "print('Fall 2020 Census: EECS by Ethnicity (Level 2)')\n",
    "display(eecs.groupby('Ethnicity L2').sum().sort_values('Headcount', ascending=False).reset_index())"
   ]
  },
  {
   "cell_type": "code",
   "execution_count": 198,
   "metadata": {},
   "outputs": [
    {
     "name": "stdout",
     "output_type": "stream",
     "text": [
      "Fall 2020 Census: L&S CS by Ethnicity (Level 2)\n",
      "-----------------------------  ----  ------\n",
      "Asian                          1029  62.86%\n",
      "International                   362  22.11%\n",
      "White                           195  11.91%\n",
      "Chicano/Latino                   39  2.38%\n",
      "African American                  9  0.55%\n",
      "Native American/Alaska Native     3  0.18%\n",
      "-----------------------------  ----  ------\n"
     ]
    }
   ],
   "source": [
    "print('Fall 2020 Census: L&S CS by Ethnicity (Level 2)')\n",
    "display(cs.groupby('Ethnicity L2').sum().sort_values('Headcount', ascending=False).reset_index())"
   ]
  },
  {
   "cell_type": "markdown",
   "metadata": {},
   "source": [
    "# Gender"
   ]
  },
  {
   "cell_type": "code",
   "execution_count": 199,
   "metadata": {},
   "outputs": [
    {
     "name": "stdout",
     "output_type": "stream",
     "text": [
      "Fall 2020 Census: EECS by Gender\n",
      "------  ----  ------\n",
      "Male    1302  77.68%\n",
      "Female   374  22.32%\n",
      "------  ----  ------\n"
     ]
    }
   ],
   "source": [
    "print('Fall 2020 Census: EECS by Gender')\n",
    "display(eecs.groupby('Gender').sum().sort_values('Headcount', ascending=False).reset_index())"
   ]
  },
  {
   "cell_type": "code",
   "execution_count": 200,
   "metadata": {},
   "outputs": [
    {
     "name": "stdout",
     "output_type": "stream",
     "text": [
      "Fall 2020 Census: L&S CS by Gender\n",
      "------  ----  ------\n",
      "Male    1278  72.41%\n",
      "Female   487  27.59%\n",
      "------  ----  ------\n"
     ]
    }
   ],
   "source": [
    "print('Fall 2020 Census: L&S CS by Gender')\n",
    "display(cs.groupby('Gender').sum().sort_values('Headcount', ascending=False).reset_index())"
   ]
  },
  {
   "cell_type": "markdown",
   "metadata": {},
   "source": [
    "# Gender & Ethnicity (Level 2) "
   ]
  },
  {
   "cell_type": "code",
   "execution_count": 201,
   "metadata": {
    "scrolled": false
   },
   "outputs": [
    {
     "name": "stdout",
     "output_type": "stream",
     "text": [
      "Fall 2020 Census: EECS by Gender\n",
      "------  -----------------------------  ---  ------\n",
      "Male    Asian                          707  45.67%\n",
      "Female  Asian                          214  13.82%\n",
      "Male    International                  196  12.66%\n",
      "Male    White                          161  10.40%\n",
      "Male    Chicano/Latino                 119  7.69%\n",
      "Female  White                           46  2.97%\n",
      "Female  International                   39  2.52%\n",
      "Female  Chicano/Latino                  30  1.94%\n",
      "Male    African American                18  1.16%\n",
      "Female  African American                13  0.84%\n",
      "Male    Pacific Islander                 3  0.19%\n",
      "Male    Native American/Alaska Native    2  0.13%\n",
      "------  -----------------------------  ---  ------\n"
     ]
    }
   ],
   "source": [
    "print('Fall 2020 Census: EECS by Gender')\n",
    "display(eecs.groupby(['Gender', 'Ethnicity L2']).sum().reset_index()\n",
    "        .sort_values(by=['Headcount'], ascending=False))"
   ]
  },
  {
   "cell_type": "code",
   "execution_count": 202,
   "metadata": {},
   "outputs": [
    {
     "name": "stdout",
     "output_type": "stream",
     "text": [
      "Fall 2020 Census: L&S CS by Gender\n",
      "------  -----------------------------  ---  ------\n",
      "Male    Asian                          753  46.06%\n",
      "Female  Asian                          276  16.88%\n",
      "Male    International                  249  15.23%\n",
      "Male    White                          156  9.54%\n",
      "Female  International                  111  6.79%\n",
      "Female  White                           39  2.39%\n",
      "Male    Chicano/Latino                  30  1.83%\n",
      "Female  Chicano/Latino                   9  0.55%\n",
      "Female  African American                 5  0.31%\n",
      "Male    African American                 4  0.24%\n",
      "Male    Native American/Alaska Native    2  0.12%\n",
      "Female  Native American/Alaska Native    1  0.06%\n",
      "------  -----------------------------  ---  ------\n"
     ]
    }
   ],
   "source": [
    "print('Fall 2020 Census: L&S CS by Gender')\n",
    "display(cs.groupby(['Gender', 'Ethnicity L2']).sum().reset_index()\n",
    "        .sort_values(by=['Headcount'], ascending=False))"
   ]
  },
  {
   "cell_type": "markdown",
   "metadata": {},
   "source": [
    "# Gender & Ethnicity (Level 3) "
   ]
  },
  {
   "cell_type": "code",
   "execution_count": 203,
   "metadata": {},
   "outputs": [
    {
     "name": "stdout",
     "output_type": "stream",
     "text": [
      "Fall 2020 Census: EECS by Gender & Ethnicity (Level 3)\n",
      "------  -----------------------------  ---  ------\n",
      "Male    Chinese                        308  19.90%\n",
      "Male    South Asian                    254  16.41%\n",
      "Male    International                  196  12.66%\n",
      "Male    White                          161  10.40%\n",
      "Female  Chinese                        103  6.65%\n",
      "Male    Mexican American/Chicano        87  5.62%\n",
      "Female  South Asian                     75  4.84%\n",
      "Male    Korean                          55  3.55%\n",
      "Female  White                           46  2.97%\n",
      "Male    Vietnamese                      39  2.52%\n",
      "Female  International                   39  2.52%\n",
      "Male    Other Hispanic/Latino           32  2.07%\n",
      "Male    Filipino                        23  1.49%\n",
      "Female  Mexican American/Chicano        20  1.29%\n",
      "Male    African American/Black          18  1.16%\n",
      "Male    Other Asian                     15  0.97%\n",
      "Female  African American/Black          13  0.84%\n",
      "Male    Japanese                        13  0.84%\n",
      "Female  Korean                          13  0.84%\n",
      "Female  Vietnamese                      12  0.78%\n",
      "Female  Other Hispanic/Latino           10  0.65%\n",
      "Female  Filipino                         5  0.32%\n",
      "Female  Other Asian                      4  0.26%\n",
      "Male    Pacific Islander                 3  0.19%\n",
      "Male    Native American/Alaska Native    2  0.13%\n",
      "Female  Japanese                         2  0.13%\n",
      "------  -----------------------------  ---  ------\n"
     ]
    }
   ],
   "source": [
    "print('Fall 2020 Census: EECS by Gender & Ethnicity (Level 3)')\n",
    "display(eecs.groupby(['Gender', 'Ethnicity L3']).sum().reset_index()\n",
    "        .sort_values(by=['Headcount'], ascending=False))"
   ]
  },
  {
   "cell_type": "code",
   "execution_count": 204,
   "metadata": {},
   "outputs": [
    {
     "name": "stdout",
     "output_type": "stream",
     "text": [
      "Fall 2020 Census: CS by Gender & Ethnicity (Level 3)\n",
      "------  -----------------------------  ---  ------\n",
      "Male    Chinese                        365  22.32%\n",
      "Male    International                  249  15.23%\n",
      "Male    South Asian                    248  15.17%\n",
      "Female  Chinese                        168  10.28%\n",
      "Male    White                          156  9.54%\n",
      "Female  International                  111  6.79%\n",
      "Female  South Asian                     62  3.79%\n",
      "Male    Korean                          51  3.12%\n",
      "Male    Vietnamese                      43  2.63%\n",
      "Female  White                           39  2.39%\n",
      "Male    Filipino                        21  1.28%\n",
      "Male    Mexican American/Chicano        18  1.10%\n",
      "Female  Vietnamese                      17  1.04%\n",
      "Male    Other Asian                     17  1.04%\n",
      "Female  Korean                          15  0.92%\n",
      "Male    Other Hispanic/Latino           12  0.73%\n",
      "Male    Japanese                         8  0.49%\n",
      "Female  Mexican American/Chicano         6  0.37%\n",
      "Female  Other Asian                      5  0.31%\n",
      "Female  Filipino                         5  0.31%\n",
      "Female  African American/Black           5  0.31%\n",
      "Female  Japanese                         4  0.24%\n",
      "Male    African American/Black           4  0.24%\n",
      "Female  Other Hispanic/Latino            3  0.18%\n",
      "Male    Native American/Alaska Native    2  0.12%\n",
      "Female  Native American/Alaska Native    1  0.06%\n",
      "------  -----------------------------  ---  ------\n"
     ]
    }
   ],
   "source": [
    "print('Fall 2020 Census: CS by Gender & Ethnicity (Level 3)')\n",
    "display(cs.groupby(['Gender', 'Ethnicity L3']).sum().reset_index()\n",
    "        .sort_values(by=['Headcount'], ascending=False))"
   ]
  },
  {
   "cell_type": "code",
   "execution_count": null,
   "metadata": {},
   "outputs": [],
   "source": []
  }
 ],
 "metadata": {
  "kernelspec": {
   "display_name": "Python 3",
   "language": "python",
   "name": "python3"
  },
  "language_info": {
   "codemirror_mode": {
    "name": "ipython",
    "version": 3
   },
   "file_extension": ".py",
   "mimetype": "text/x-python",
   "name": "python",
   "nbconvert_exporter": "python",
   "pygments_lexer": "ipython3",
   "version": "3.8.3"
  }
 },
 "nbformat": 4,
 "nbformat_minor": 4
}
